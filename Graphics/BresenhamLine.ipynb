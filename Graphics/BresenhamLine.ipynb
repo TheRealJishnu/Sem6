{
 "cells": [
  {
   "cell_type": "code",
   "execution_count": 1,
   "id": "9deb3e64-7d8b-427e-8a3d-49f0154216f9",
   "metadata": {},
   "outputs": [],
   "source": [
    "import sys\n",
    "from OpenGL.GL import *\n",
    "from OpenGL.GLU import *\n",
    "from OpenGL.GLUT import *"
   ]
  },
  {
   "cell_type": "code",
   "execution_count": 2,
   "id": "0e49d466-6bfb-442f-a3eb-ffb1593632aa",
   "metadata": {},
   "outputs": [],
   "source": [
    "# Function For window\n",
    "def init():\n",
    "    glClearColor(1.0, 1.0, 1.0, 1.0)\n",
    "    gluOrtho2D(0, 500, 0, 500)"
   ]
  },
  {
   "cell_type": "code",
   "execution_count": 3,
   "id": "0f245d1d-343a-454c-a289-cc6366ba380d",
   "metadata": {},
   "outputs": [],
   "source": [
    "# Function to plot points\n",
    "def plot(x, y):\n",
    "    glBegin(GL_POINTS)\n",
    "    glVertex2i(x, y)\n",
    "    glEnd()"
   ]
  },
  {
   "cell_type": "code",
   "execution_count": 4,
   "id": "935d8a65-8cb4-4018-aeb1-e34a7498e2e6",
   "metadata": {},
   "outputs": [],
   "source": [
    "# Python 3 program for Bresenham’s Line Generation \n",
    "# Assumptions : \n",
    "# 1) Line is drawn from left to right. \n",
    "# 2) x1 < x2 and y1 < y2 \n",
    "# 3) Slope of the line is between 0 and 1. \n",
    "# We draw a line from lower left to upper \n",
    "# right. \n",
    "# function for line generation\n",
    "\n",
    "def bresenham(x1, y1, x2, y2): \n",
    "  \n",
    "    m_new = 2 * (y2 - y1) \n",
    "    slope_error_new = m_new - (x2 - x1) \n",
    "  \n",
    "    y = y1 \n",
    "    for x in range(x1, x2+1): \n",
    "        plot(round(x), round(y))\n",
    "  \n",
    "        # Add slope to increment angle formed \n",
    "        slope_error_new = slope_error_new + m_new \n",
    "  \n",
    "        # Slope error reached limit, time to \n",
    "        # increment y and update slope error. \n",
    "        if (slope_error_new >= 0): \n",
    "            y = y + 1\n",
    "            slope_error_new = slope_error_new - 2 * (x2 - x1) \n",
    "  "
   ]
  },
  {
   "cell_type": "code",
   "execution_count": 5,
   "id": "2c5b9fd5-affd-4850-8452-edbc2d334a32",
   "metadata": {},
   "outputs": [],
   "source": [
    "def display():\n",
    "    glClear(GL_COLOR_BUFFER_BIT)\n",
    "    glColor3f(0.0, 0.0, 0.0)\n",
    "#     draw_line(100, 100, 400, 400)\n",
    "    bresenham(10, 100, 300, 300)\n",
    "    glFlush()\n",
    "\n"
   ]
  },
  {
   "cell_type": "code",
   "execution_count": null,
   "id": "ab9c445d-7ece-4815-a975-1e78e3716e43",
   "metadata": {},
   "outputs": [],
   "source": [
    "# Main function\n",
    "glutInit()\n",
    "glutInitDisplayMode(GLUT_SINGLE | GLUT_RGB)\n",
    "glutInitWindowSize(500, 500)\n",
    "glutInitWindowPosition(100, 100)\n",
    "glutCreateWindow(\"Bresenham's Line Drawing Algorithm\")\n",
    "glutDisplayFunc(display)\n",
    "init()\n",
    "glutMainLoop()\n"
   ]
  },
  {
   "cell_type": "code",
   "execution_count": null,
   "id": "0fccb557-c41f-4b76-b634-acbb924e8c60",
   "metadata": {},
   "outputs": [],
   "source": []
  }
 ],
 "metadata": {
  "kernelspec": {
   "display_name": "Python 3 (ipykernel)",
   "language": "python",
   "name": "python3"
  },
  "language_info": {
   "codemirror_mode": {
    "name": "ipython",
    "version": 3
   },
   "file_extension": ".py",
   "mimetype": "text/x-python",
   "name": "python",
   "nbconvert_exporter": "python",
   "pygments_lexer": "ipython3",
   "version": "3.10.12"
  }
 },
 "nbformat": 4,
 "nbformat_minor": 5
}
