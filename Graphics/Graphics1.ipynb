{
 "cells": [
  {
   "cell_type": "code",
   "execution_count": 1,
   "id": "9ef434f5-e3fc-4d35-8439-1c87717b653e",
   "metadata": {},
   "outputs": [
    {
     "name": "stdout",
     "output_type": "stream",
     "text": [
      "Success\n"
     ]
    }
   ],
   "source": [
    "import sys\n",
    "from OpenGL.GL import *\n",
    "from OpenGL.GLU import *\n",
    "from OpenGL.GLUT import *\n",
    "print(\"Success\")"
   ]
  },
  {
   "cell_type": "code",
   "execution_count": 2,
   "id": "5528f74b-69fd-4cf5-b62d-446d32bda84d",
   "metadata": {},
   "outputs": [],
   "source": [
    "# !pip freeze"
   ]
  },
  {
   "cell_type": "code",
   "execution_count": 3,
   "id": "59897a53-60e6-4b8d-9362-e4496bd43a48",
   "metadata": {},
   "outputs": [],
   "source": [
    "# Function to initialize window\n",
    "def init():\n",
    "    # glClearColor(0.0, 0.0, 0.0, 0.0)\n",
    "    glClearColor(200.0, 200.0, 200.0, 0.0)  # Window Color\n",
    "    gluOrtho2D(0, 500, 0, 500)"
   ]
  },
  {
   "cell_type": "code",
   "execution_count": 4,
   "id": "0d6b0c51-0633-4664-8cd7-ec2c376e83f0",
   "metadata": {},
   "outputs": [],
   "source": [
    "def plot(x, y):\n",
    "    glBegin(GL_POINTS)\n",
    "    glVertex2i(x, y)\n",
    "    glEnd()"
   ]
  },
  {
   "cell_type": "code",
   "execution_count": 5,
   "id": "9c86e20f-f746-420e-a9e1-f0734991eefb",
   "metadata": {},
   "outputs": [],
   "source": [
    "def draw_line(x1, y1, x2, y2):\n",
    "    dx = x2 - x1\n",
    "    dy = y2 - y1\n",
    "    if abs(dx) > abs(dy):\n",
    "        steps = abs(dx)\n",
    "    else:\n",
    "        steps = abs(dy)\n",
    "    x_increment = dx / float(steps)\n",
    "    y_increment = dy / float(steps)\n",
    "    x = x1\n",
    "    y = y1\n",
    "    plot(round(x), round(y))\n",
    "    for k in range(steps):\n",
    "        x += x_increment\n",
    "        y += y_increment\n",
    "        plot(round(x), round(y))\n",
    "    glFlush()"
   ]
  },
  {
   "cell_type": "code",
   "execution_count": 6,
   "id": "4063172d-d23e-432a-97db-62469b4e7f13",
   "metadata": {},
   "outputs": [],
   "source": [
    "# Function to Draw\n",
    "def display():\n",
    "    glClear(GL_COLOR_BUFFER_BIT)\n",
    "    glColor3f(0.0, 0.0, 0.0) #Line Color\n",
    "    # glColor3f(200, 200, 200)\n",
    "    # draw_line(100, 100, 400, 400)\n",
    "    draw_line(50, 50, 400, 400)\n",
    "    glFlush()"
   ]
  },
  {
   "cell_type": "code",
   "execution_count": null,
   "id": "b917da48-4d0c-42ea-8d5a-c6668882c444",
   "metadata": {},
   "outputs": [],
   "source": [
    "# Main function\n",
    "def main():\n",
    "    glutInit()\n",
    "    glutInitDisplayMode(GLUT_SINGLE | GLUT_RGB)\n",
    "    glutInitWindowSize(900, 700)\n",
    "    glutInitWindowPosition(100, 100)\n",
    "    glutCreateWindow(\"DDA Line Drawing Algorithm\")\n",
    "    glutDisplayFunc(display)\n",
    "    init()\n",
    "    glutMainLoop()\n",
    "main()"
   ]
  },
  {
   "cell_type": "code",
   "execution_count": null,
   "id": "c197cb40-d6fe-45f5-80d2-1e65d4749f2b",
   "metadata": {},
   "outputs": [],
   "source": []
  },
  {
   "cell_type": "code",
   "execution_count": null,
   "id": "b11fcdf0-1a6e-40b2-8147-4eacc16220d5",
   "metadata": {},
   "outputs": [],
   "source": []
  }
 ],
 "metadata": {
  "kernelspec": {
   "display_name": "Python 3 (ipykernel)",
   "language": "python",
   "name": "python3"
  },
  "language_info": {
   "codemirror_mode": {
    "name": "ipython",
    "version": 3
   },
   "file_extension": ".py",
   "mimetype": "text/x-python",
   "name": "python",
   "nbconvert_exporter": "python",
   "pygments_lexer": "ipython3",
   "version": "3.10.12"
  }
 },
 "nbformat": 4,
 "nbformat_minor": 5
}
