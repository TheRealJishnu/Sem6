{
 "cells": [
  {
   "cell_type": "code",
   "execution_count": 37,
   "metadata": {},
   "outputs": [],
   "source": [
    "L = [\"Apple\", \"Orange\", \"Mango\"]"
   ]
  },
  {
   "cell_type": "code",
   "execution_count": 13,
   "metadata": {},
   "outputs": [
    {
     "name": "stdout",
     "output_type": "stream",
     "text": [
      "Mango\n"
     ]
    }
   ],
   "source": [
    "print(L[2]) # Forward Indexing"
   ]
  },
  {
   "cell_type": "code",
   "execution_count": 15,
   "metadata": {},
   "outputs": [
    {
     "name": "stdout",
     "output_type": "stream",
     "text": [
      "Orange\n"
     ]
    }
   ],
   "source": [
    "print(L[-2]) # Reverse Indexing"
   ]
  },
  {
   "cell_type": "code",
   "execution_count": 16,
   "metadata": {},
   "outputs": [
    {
     "data": {
      "text/plain": [
       "['Apple', 10, 54.12]"
      ]
     },
     "execution_count": 16,
     "metadata": {},
     "output_type": "execute_result"
    }
   ],
   "source": [
    "l1 = [\"Apple\", 10, 54.12] #List is heterogeneous\n",
    "l1"
   ]
  },
  {
   "cell_type": "code",
   "execution_count": 17,
   "metadata": {},
   "outputs": [
    {
     "name": "stdout",
     "output_type": "stream",
     "text": [
      "3\n"
     ]
    }
   ],
   "source": [
    "print(len(L))"
   ]
  },
  {
   "cell_type": "code",
   "execution_count": 18,
   "metadata": {},
   "outputs": [
    {
     "name": "stdout",
     "output_type": "stream",
     "text": [
      "Apple\n",
      "Orange\n",
      "Mango\n"
     ]
    }
   ],
   "source": [
    "# Looping\n",
    "for i in range(len(L)):\n",
    "    print(L[i])"
   ]
  },
  {
   "cell_type": "code",
   "execution_count": 38,
   "metadata": {},
   "outputs": [
    {
     "name": "stdout",
     "output_type": "stream",
     "text": [
      "['Apple', 'Orange', 'Mango', 'Guava']\n"
     ]
    }
   ],
   "source": [
    "# Append One Element\n",
    "L.append(\"Guava\")\n",
    "print(L)"
   ]
  },
  {
   "cell_type": "code",
   "execution_count": 39,
   "metadata": {},
   "outputs": [
    {
     "name": "stdout",
     "output_type": "stream",
     "text": [
      "['Apple', 'Banana', 'Orange', 'Mango', 'Guava']\n"
     ]
    }
   ],
   "source": [
    "L.insert(1, \"Banana\")\n",
    "print(L)"
   ]
  },
  {
   "cell_type": "code",
   "execution_count": 33,
   "metadata": {},
   "outputs": [
    {
     "data": {
      "text/plain": [
       "'Orange'"
      ]
     },
     "execution_count": 33,
     "metadata": {},
     "output_type": "execute_result"
    }
   ],
   "source": [
    "L.pop()\n",
    "# print(L)"
   ]
  },
  {
   "cell_type": "code",
   "execution_count": 31,
   "metadata": {},
   "outputs": [
    {
     "data": {
      "text/plain": [
       "['Apple', 'Banana', 'Orange', 'Mango']"
      ]
     },
     "execution_count": 31,
     "metadata": {},
     "output_type": "execute_result"
    }
   ],
   "source": [
    "L.remove(\"Guava\")\n",
    "L"
   ]
  },
  {
   "cell_type": "code",
   "execution_count": 36,
   "metadata": {},
   "outputs": [
    {
     "name": "stdout",
     "output_type": "stream",
     "text": [
      "['Apple', 'Banana']\n"
     ]
    }
   ],
   "source": [
    "print(L)"
   ]
  },
  {
   "cell_type": "code",
   "execution_count": 49,
   "metadata": {},
   "outputs": [
    {
     "name": "stdout",
     "output_type": "stream",
     "text": [
      "L =  ['Apple', 'Banana', 'Orange', 'Mango', 'Guava']\n",
      "L[1:3] =  ['Banana', 'Orange']\n",
      "L[1:] =  ['Banana', 'Orange', 'Mango', 'Guava']\n",
      "L[:2] =  ['Apple', 'Banana']\n"
     ]
    }
   ],
   "source": [
    "# Slicing a List\n",
    "print(\"L = \", L)\n",
    "print(\"L[1:3] = \", L[1:3])\n",
    "print(\"L[1:] = \", L[1:])\n",
    "print(\"L[:2] = \", L[:2])"
   ]
  },
  {
   "cell_type": "code",
   "execution_count": 51,
   "metadata": {},
   "outputs": [
    {
     "name": "stdout",
     "output_type": "stream",
     "text": [
      "[1, 2, 3, 4, 5, 6, 7]\n"
     ]
    }
   ],
   "source": [
    "# Concatenating two list\n",
    "\n",
    "l1 = [1, 2, 3]\n",
    "l2 = [4, 5, 6, 7]\n",
    "l3 = l1 + l2\n",
    "print(l3)"
   ]
  },
  {
   "cell_type": "code",
   "execution_count": 54,
   "metadata": {},
   "outputs": [
    {
     "name": "stdout",
     "output_type": "stream",
     "text": [
      "[1, 2, 3, 1, 2, 3, 1, 2, 3]\n"
     ]
    }
   ],
   "source": [
    "l4 = [1,2,3]\n",
    "l4 = l4*3\n",
    "print(l4)"
   ]
  },
  {
   "cell_type": "code",
   "execution_count": 58,
   "metadata": {},
   "outputs": [
    {
     "name": "stdout",
     "output_type": "stream",
     "text": [
      "Not Present\n"
     ]
    }
   ],
   "source": [
    "# Checking whether an element is present in list or not\n",
    "l5 = [1,2,3,4,5]\n",
    "# l5 = l5.replace(1, 99)\n",
    "l5[0] = 25\n",
    "if 1 in l5:\n",
    "    print(\"Present\")\n",
    "else:\n",
    "    print(\"Not Present\")"
   ]
  },
  {
   "cell_type": "code",
   "execution_count": 64,
   "metadata": {},
   "outputs": [
    {
     "name": "stdout",
     "output_type": "stream",
     "text": [
      "['Apple', 'Banana', 'Cherry', 'Strawberry']\n",
      "[7, 6, 5, 3, 1]\n"
     ]
    }
   ],
   "source": [
    "# Sorting\n",
    "l6 = [\"Banana\", \"Apple\", \"Strawberry\", \"Cherry\"]\n",
    "l6.sort()\n",
    "print(l6)\n",
    "\n",
    "l7 = [5, 6, 1, 7, 3]\n",
    "l7.sort(reverse=True)\n",
    "print(l7)"
   ]
  },
  {
   "cell_type": "code",
   "execution_count": 71,
   "metadata": {},
   "outputs": [
    {
     "name": "stdout",
     "output_type": "stream",
     "text": [
      "[2, 4, 6, 8, 10]\n",
      "[2, 4, 6, 8, 10]\n"
     ]
    }
   ],
   "source": [
    "L = [i for i in range(1, 11)]\n",
    "even = []\n",
    "for i in L:\n",
    "    if i%2 == 0:\n",
    "        even.append(i)\n",
    "print(even)\n",
    "\n",
    "\n",
    "# List Comprehension\n",
    "even = [i for i in L if i%2==0]\n",
    "print(even)"
   ]
  },
  {
   "cell_type": "code",
   "execution_count": 72,
   "metadata": {},
   "outputs": [
    {
     "name": "stdout",
     "output_type": "stream",
     "text": [
      "['BANANA', 'APPLE', 'STRAWBERRY', 'CHERRY']\n"
     ]
    }
   ],
   "source": [
    "# Upper Case\n",
    "L = [\"Banana\", \"Apple\", \"Strawberry\", \"Cherry\"]\n",
    "upper = [i.upper() for i in L]\n",
    "print(upper)"
   ]
  },
  {
   "cell_type": "code",
   "execution_count": 76,
   "metadata": {},
   "outputs": [
    {
     "name": "stdout",
     "output_type": "stream",
     "text": [
      "[2, 4, 6, 8, 10]\n"
     ]
    }
   ],
   "source": [
    "# List even\n",
    "L = [i for i in range(1,11) if i%2==0]\n",
    "print(L)"
   ]
  },
  {
   "cell_type": "code",
   "execution_count": 78,
   "metadata": {},
   "outputs": [
    {
     "name": "stdout",
     "output_type": "stream",
     "text": [
      "[1, 3, 5, 7, 9]\n"
     ]
    }
   ],
   "source": [
    "# Use List Comprehension ... odd\n",
    "L = [i for i in range(1,11) if i%2==1]\n",
    "print(L)"
   ]
  },
  {
   "cell_type": "code",
   "execution_count": 87,
   "metadata": {},
   "outputs": [
    {
     "name": "stdout",
     "output_type": "stream",
     "text": [
      "dict_keys(['Ram', 'Shyam', 'Jodu', 'Madhu'])\n",
      "dict_values([70, 80, 90, 100])\n",
      "['Ram', 'Shyam', 'Jodu', 'Madhu'] [70, 80, 90, 100]\n"
     ]
    }
   ],
   "source": [
    "# Python Dictionary\n",
    "d= {\"Ram\":70, \"Shyam\":80, \"Jodu\":90, \"Madhu\":100}\n",
    "print(d.keys())\n",
    "print(d.values())\n",
    "\n",
    "k = list(d.keys())\n",
    "val = list(d.values())\n",
    "print(k, val)"
   ]
  },
  {
   "cell_type": "code",
   "execution_count": null,
   "metadata": {},
   "outputs": [],
   "source": []
  }
 ],
 "metadata": {
  "kernelspec": {
   "display_name": "Python 3",
   "language": "python",
   "name": "python3"
  },
  "language_info": {
   "codemirror_mode": {
    "name": "ipython",
    "version": 3
   },
   "file_extension": ".py",
   "mimetype": "text/x-python",
   "name": "python",
   "nbconvert_exporter": "python",
   "pygments_lexer": "ipython3",
   "version": "3.7.3"
  }
 },
 "nbformat": 4,
 "nbformat_minor": 2
}
